{
  "nbformat": 4,
  "nbformat_minor": 0,
  "metadata": {
    "colab": {
      "provenance": [],
      "collapsed_sections": [
        "z17ThK4Mi2st"
      ]
    },
    "kernelspec": {
      "name": "python3",
      "display_name": "Python 3"
    },
    "language_info": {
      "name": "python"
    }
  },
  "cells": [
    {
      "cell_type": "markdown",
      "source": [
        "# Projeto individual Módulo 5\n",
        "Marcos Retondar"
      ],
      "metadata": {
        "id": "dxcUtQF4eBN3"
      }
    },
    {
      "cell_type": "markdown",
      "source": [
        "## Contexto:"
      ],
      "metadata": {
        "id": "BYWXkWcreKh_"
      }
    },
    {
      "cell_type": "markdown",
      "source": [
        "Você foi contratado como analista de dados e seu chefe, o Chief Marketing Officer (CMO), pediu que você trabalhasse com seu Parceiro de Negócios de Recursos Humanos (HRBP) para entender o que está causando o atrito – pessoas deixando a empresa – em toda a organização de marketing e apresentar suas descobertas."
      ],
      "metadata": {
        "id": "fEZvJWkxem9P"
      }
    },
    {
      "cell_type": "markdown",
      "source": [],
      "metadata": {
        "id": "DhTlUsfP444e"
      }
    },
    {
      "cell_type": "markdown",
      "source": [
        "![Reasons for Leaving](https://swd-community-media.s3.amazonaws.com/media/8.5_IMAGE_33rhWM2.png)"
      ],
      "metadata": {
        "id": "RCaqpweYfGfd"
      }
    },
    {
      "cell_type": "markdown",
      "source": [
        "O gráfico acima foi gerado a partir dos seguintes dados:"
      ],
      "metadata": {
        "id": "9GAABYW4hoD7"
      }
    },
    {
      "cell_type": "markdown",
      "source": [
        "|    Reason          | Ability to impact | HRBP | Exit survey |\n",
        "|-------------------|--------------------|------|-------------|\n",
        "| Training            | 11                | 31   | 23          |\n",
        "| Conflict with others | 10              | 11   | 15          |\n",
        "| Lack of recognition | 9                | 65   | 44          |\n",
        "| Workload           | 8                 | 14   | 39          |\n",
        "| Career advancement | 7                | 137  | 171         |\n",
        "| Pay                   | 6                 | 16   | 24          |\n",
        "| Type of work      | 5                | 128 | 78          |\n",
        "| Career change   | 4                 | 18   | 30          |\n",
        "| Commute         | 3                 | 31   | 22          |\n",
        "| Relocation       | 2                 | 105 | 37          |\n",
        "| Illness               | 1                 | 9    | 21          |\n"
      ],
      "metadata": {
        "id": "YnLJA7Rwd_Dr"
      }
    },
    {
      "cell_type": "markdown",
      "source": [
        "##1.\tO que está sendo mostrado aqui? Escreva um texto explicando os dados. Dica: imagine que você precisa explicar esse gráfico para o seu chefe. Escreva sobre como você faria isso em voz alta (fazendo suposições conforme necessário)."
      ],
      "metadata": {
        "id": "gniUGMtthxwT"
      }
    },
    {
      "cell_type": "markdown",
      "source": [
        "Este gráfico de bolhas ilustra as causas da saída de funcionários, com base nas respostas fornecidas ao HRBP. Cada bolha representa uma circunstância particular que pode estar contribuindo para a saída dos colaboradores. O eixo horizontal indica a quantidade de funcionários que mencionaram cada motivo, enquanto o eixo vertical representa o grau de impacto da saída devido a esse motivo.\n",
        "\n",
        "Insights a partir dos dados:\n",
        "A falta de progresso na carreira é mencionada por um número considerável de funcionários e tem um impacto significativo nas saídas, seguida pelo Tipo de Trabalho e, em terceiro lugar, a Realocação.\n",
        "\n",
        "A remuneração tem um impacto moderado, com um número razoável de menções, indicando que é um fator a ser levado em consideração.\n",
        "\n",
        "Sugestões de Melhoria e Feedback:\n",
        "A visualização gráfica é transparente e eficaz na compreensão das causas e de como elas afetam a situação, no entanto, incluir etiquetas nas bolhas para uma identificação mais simples das circunstâncias específicas seria vantajoso. Adicionalmente, a inclusão de uma legenda explicativa na escala vertical (Capacidade de Impacto) contribuiria para uma compreensão mais completa.\n"
      ],
      "metadata": {
        "id": "-K00CvsgibYK"
      }
    },
    {
      "cell_type": "markdown",
      "source": [
        "##2.\tQue observações você pode fazer a partir desses dados? Coloque duas conclusões específicas em palavras. Escreva sentenças completas."
      ],
      "metadata": {
        "id": "zSb7pjvCifHa"
      }
    },
    {
      "cell_type": "markdown",
      "source": [
        "Com base nos dados apresentados na tabela, aqui estão duas conclusões específicas:\n",
        "\n",
        "1. **Falta de Progressão na Carreira é uma Causa Significativa de Saída:** A categoria \"Career advancement\" (Progressão na Carreira) foi mencionada por 171 funcionários nas pesquisas de saída, tornando-a a razão mais frequente para a saída.\n",
        "2. **Tipo de Trabalho e Realocação Também São Fatores Relevantes:** Além da progressão na carreira, as categorias \"Type of work\" (Tipo de Trabalho) e \"Relocation\" (Realocação) foram mencionadas por 78 e 37 funcionários, respectivamente. Isso indica que a natureza do trabalho desempenhado e as mudanças de localização também estão contribuindo significativamente para saída de funcionários\n",
        "\n",
        "Essas conclusões são importantes para direcionar estratégias de retenção de funcionários e melhorias nas áreas identificadas como críticas para reduzir saída de funcionários."
      ],
      "metadata": {
        "id": "m6i9ilHekzuW"
      }
    },
    {
      "cell_type": "markdown",
      "source": [
        "##3.\tO que não é ideal ou poderia ser evitado na visualização em sua forma atual? Que perguntas você faria ou que feedback daria para quem fez o gráfico? Exemplo: suponha que seu HRBP gastou muito tempo criando esse gráfico; como você pode ajustar seu feedback para que ele não se ofenda?"
      ],
      "metadata": {
        "id": "xoCipDC0inSq"
      }
    },
    {
      "cell_type": "markdown",
      "source": [
        "Este feedback tem como objetivo ressaltar o valor da visualização enquanto sugere melhorias que podem torná-la uma ferramenta ainda mais eficaz na tomada de decisões\n",
        "\n",
        "1. **Falta de Rótulos nas Bolhas:** Atualmente, as bolhas no gráfico não têm rótulos que identifiquem claramente as situações específicas a que se referem. Adicionar rótulos ajudaria os espectadores a entender rapidamente o que cada bolha representa.\n",
        "\n",
        "2. **Legenda na Escala Vertical:** A escala vertical, referente à \"Ability to Impact\" (Habilidade de Impacto), não possui uma legenda explicativa. Adicionar uma legenda esclareceria o que essa escala representa, tornando a visualização mais acessível.\n",
        "\n",
        "3. **Ordenação das Categorias:** As categorias na tabela não estão ordenadas de forma lógica ou descendente com base no número de funcionários que mencionaram cada motivo. Reorganizar as categorias em ordem decrescente de frequência poderia tornar a visualização mais intuitiva.\n",
        "\n",
        "4. **Uso de Cores:** Se o gráfico usa cores, é importante garantir que as cores sejam facilmente distinguíveis por pessoas com deficiência visual. Certifique-se de que as cores não sejam a única forma de distinguir os elementos no gráfico.\n",
        "\n",
        "5. **Título Explicativo:** Adicionar um título explicativo ao gráfico poderia fornecer contexto imediato sobre o que está sendo representado, facilitando a compreensão para aqueles que o veem pela primeira vez.\n",
        "\n"
      ],
      "metadata": {
        "id": "xSVscW9slBdU"
      }
    },
    {
      "cell_type": "markdown",
      "source": [
        "##4.\tCrie três maneiras diferentes de mostrar esses dados e liste quais são algumas vantagens e insuficiências de cada uma."
      ],
      "metadata": {
        "id": "mbEH8tETir4y"
      }
    },
    {
      "cell_type": "markdown",
      "source": [
        "\n",
        "**1. Gráfico de Barras Empilhadas:**\n",
        "\n",
        "- **Vantagens:**\n",
        "  - Permite visualizar a distribuição percentual das razões de saída.\n",
        "  - Destaca a proporção de cada motivo em relação ao total.\n",
        "  - Fácil de comparar as categorias.\n",
        "\n",
        "- **Desvantagens:**\n",
        "  - Difícil de representar o número absoluto de funcionários em cada categoria.\n",
        "  - Pode se tornar confuso com muitas categorias."
      ],
      "metadata": {
        "id": "ilOJEXU89Vqv"
      }
    },
    {
      "cell_type": "markdown",
      "source": [
        "Neste caso mostramos dois gráficos de barras lado a lado para comparar a diferença entre os resultados obtidos pela pesquisa dos recursos humanos e a pesquisa de saída.\n",
        "\n"
      ],
      "metadata": {
        "id": "DRhdrH-29XtG"
      }
    },
    {
      "cell_type": "markdown",
      "source": [
        "![barras horizontais](https://i.postimg.cc/fbg3Pn2Q/barras-horizontais.png)"
      ],
      "metadata": {
        "id": "5AXedgQd-hxi"
      }
    },
    {
      "cell_type": "markdown",
      "source": [
        "![Barras verticais](https://i.postimg.cc/C5r6BKJ6/barras-verticais.png)"
      ],
      "metadata": {
        "id": "1DEYqTfvAq-r"
      }
    },
    {
      "cell_type": "markdown",
      "source": [
        "**2. Gráfico de Barras Lado a Lado:**\n",
        "\n",
        "**Vantagens:**\n",
        "- Facilita a comparação direta entre duas ou mais categorias.\n",
        "- Eficiente para destacar diferenças significativas entre categorias.\n",
        "- Útil quando se deseja enfatizar a variação entre grupos em um conjunto de dados.\n",
        "\n",
        "**Desvantagens:**\n",
        "- Pode se tornar confuso quando há muitas categorias lado a lado.\n",
        "- Não é adequado para representar tendências temporais ou sequenciais.\n",
        "- A interpretação pode ser complicada se as categorias não forem organizadas de maneira lógica.\n"
      ],
      "metadata": {
        "id": "tbmQwFcVDimD"
      }
    },
    {
      "cell_type": "markdown",
      "source": [
        "![Barras lado a lado](https://i.postimg.cc/PqB6kcJ0/barras-lado-a-lado.png)"
      ],
      "metadata": {
        "id": "g48FPCu6Eag-"
      }
    },
    {
      "cell_type": "markdown",
      "source": [
        "**3. Mapas de Árvore (Treemaps):**\n",
        "**Vantagens(Treemaps):**\n",
        "- Eficientes na exibição de hierarquias de dados, como estruturas de pastas em um sistema de arquivos.\n",
        "- Permitem representar dados hierárquicos de forma compacta, economizando espaço na tela.\n",
        "- São úteis para visualizar a distribuição de partes em relação ao todo, mostrando como as categorias se desdobram em subcategorias.\n",
        "\n",
        "**Desvantagens dos Mapas de Árvore (Treemaps):**\n",
        "- Podem se tornar confusos e difíceis de ler quando há muitas categorias ou níveis hierárquicos.\n",
        "- A interpretação de categorias muito pequenas pode ser desafiadora, especialmente quando a escala é muito grande.\n",
        "- Nem sempre são ideais para representar séries temporais ou tendências ao longo do tempo.\n"
      ],
      "metadata": {
        "id": "7WmF1GpZHuTx"
      }
    },
    {
      "cell_type": "markdown",
      "source": [
        "![Mapa árvore](https://i.postimg.cc/x1B70qFs/mapa-rvore.png)"
      ],
      "metadata": {
        "id": "-r4QWN8SH6kE"
      }
    },
    {
      "cell_type": "markdown",
      "source": [
        "Acima temos um mata árvore com destaque dos três dados mais relevantes"
      ],
      "metadata": {
        "id": "fwSzeH3gIGyE"
      }
    },
    {
      "cell_type": "markdown",
      "source": [
        "\n",
        "**Nos três casos acima , a escolha foi analizar a diferença entre os resultados das duas pesquisas(HPBP e EXIT survey)**\n",
        "\n",
        "\n",
        "A escolha da melhor maneira de mostrar os dados dependerá dos objetivos específicos da análise e do público-alvo. É importante considerar a clareza, a precisão e a capacidade de comunicação de cada opção ao escolher a representação dos dados."
      ],
      "metadata": {
        "id": "hCl9DjjjlT16"
      }
    },
    {
      "cell_type": "markdown",
      "source": [
        "##5.\tQual visualização representa melhor os dados e por quê?"
      ],
      "metadata": {
        "id": "pCtMpcriiweW"
      }
    },
    {
      "cell_type": "markdown",
      "source": [
        "A escolha da melhor visualização de dados depende dos objetivos específicos da análise e do público-alvo. No entanto, com base na natureza dos dados apresentados (razões de saída dos funcionários) e nos insights desejados, uma visualização que representaria melhor esses dados é o **gráfico de barras horizontais ou verticais**. Aqui está o motivo:\n",
        "\n",
        "**Vantagens do Gráfico de Barras Horizontais:**\n",
        "- Facilita a comparação de categorias, especialmente quando há muitas delas.\n",
        "- Permite que rótulos de categoria sejam mais legíveis quando as categorias têm nomes longos.\n",
        "- Ideal para exibir rankings ou ordenar categorias com base em valores.\n",
        "\n",
        "\n",
        "\n",
        "Dada a clareza na representação da distribuição percentual das razões de saída, a capacidade de comparação e a inclusão de números absolutos, o gráfico de barras empilhadas é uma escolha sólida para visualizar esses dados. No entanto, sempre é aconselhável considerar os objetivos específicos da análise e adaptar a visualização de acordo com o contexto e as necessidades do público."
      ],
      "metadata": {
        "id": "7t8BAGqdlh6J"
      }
    },
    {
      "cell_type": "markdown",
      "source": [
        "**Abaioxo temos um trio de gráficos de barras horizontais.\n",
        "Anteriormente estávamos comparando apenas as HRBP e Exit survey. Agora adicionamos o comparativo com a capacidade de impacto de cada motivo.**"
      ],
      "metadata": {
        "id": "BHSO27S7RjO3"
      }
    },
    {
      "cell_type": "markdown",
      "source": [
        "![trio barras horizontais](https://i.postimg.cc/26Jg0D1t/trio-barras-horizontais.png)"
      ],
      "metadata": {
        "id": "Bd9PgFfLPiZC"
      }
    },
    {
      "cell_type": "markdown",
      "source": [
        "##6.\tComo você pode gerar essas informações em uma história orientada por dados para seu chefe? O objetivo é pensar além de mostrar simplesmente dados e mostrar o contexto da história."
      ],
      "metadata": {
        "id": "z17ThK4Mi2st"
      }
    },
    {
      "cell_type": "markdown",
      "source": [
        "**Análise de Atrito de Funcionários na Organização de Marketing**\n",
        "\n",
        "**Introdução**\n",
        "\n",
        "A empresa enfrenta um desafio crítico na hora de entender o real motivo pelo qual os funcionários estão deixando o trabalho. O Chief Marketing Officer (CMO) e o Parceiro de Negócios de Recursos Humanos (HRBP) solicitaram uma análise aprofundada para entender as razões por trás desse abndono e identificar soluções para reduzi-lo. Esta análise tem como objetivo fornecer insights para melhorar a retenção de funcionários e a satisfação da equipe.\n",
        "**Apresentação dos Dados**\n",
        "\n",
        "Para iniciar nossa análise, carregamos os dados relevantes no Tableau e criamos uma visualização que destaca as principais razões de saída dos funcionários. A tabela abaixo apresenta os dados cruciais:\n",
        "\n",
        "| Razão de Saída         | Número de Funcionários |\n",
        "|------------------------|------------------------|\n",
        "| Falta de Progressão na Carreira | 171                  |\n",
        "| Tipo de Trabalho       | 78                    |\n",
        "| Relocação              | 37                    |\n",
        "| ...                    | ...                   |\n",
        "\n",
        "**Principais Conclusões:**\n",
        "\n",
        "1. **Falta de Progressão na Carreira:** Esta é a razão mais comum para a saída, com 171 funcionários mencionando-a. A falta de oportunidades de progressão é um fator crítico.\n",
        "\n",
        "2. **Tipo de Trabalho e Relocação:** O tipo de trabalho e a realocação também são fatores significativos, com 78 e 37 funcionários mencionando-os, respectivamente.\n",
        "\n",
        "**Recomendações**\n",
        "\n",
        "Com base em nossas análises, aqui estão algumas recomendações específicas para reduzir esse impácto negativo:\n",
        "\n",
        "- Implementar programas de desenvolvimento de carreira para oferecer oportunidades de progressão.\n",
        "- Revisar as políticas de alocação e realocação, considerando as implicações sobre a satisfação dos funcionários.\n",
        "- Avaliar oportunidades de melhoria nas condições de trabalho para abordar as preocupações com o tipo de trabalho.\n",
        "\n",
        "\n",
        "\n",
        "**Descrição do Projeto**\n",
        "\n",
        "Este projeto analisou as razões de saída dos funcionários na organização  e apresentou conclusões importantes. Optamos por representar os dados por meio de um gráfico de barras horizontais para destacar a distribuição  de funcionários em cada categoria. Reconhecemos que a representação visual com barras horizontais poderia ser aprimorada com rótulos claros nas categorias.\n",
        "\n",
        "O objetivo deste projeto é fornecer uma base sólida para futuras decisões e ações que visem a retenção e a satisfação dos funcionários na organização.\n",
        "Esperamos que essa análise orientada por dados ajude a empresa a enfrentar o desafio do atrito com seus funcionários e a criar um ambiente de trabalho mais atraente e gratificante para a equipe.\n"
      ],
      "metadata": {
        "id": "sFVcTuDUTl4-"
      }
    }
  ]
}